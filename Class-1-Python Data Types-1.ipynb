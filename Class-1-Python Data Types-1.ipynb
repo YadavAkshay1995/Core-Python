{
 "cells": [
  {
   "cell_type": "markdown",
   "id": "428a3efa",
   "metadata": {},
   "source": [
    "### Introduction to Data types"
   ]
  },
  {
   "cell_type": "code",
   "execution_count": 2,
   "id": "72175c19",
   "metadata": {},
   "outputs": [],
   "source": [
    "i=10"
   ]
  },
  {
   "cell_type": "code",
   "execution_count": 3,
   "id": "d72338ad",
   "metadata": {},
   "outputs": [
    {
     "data": {
      "text/plain": [
       "int"
      ]
     },
     "execution_count": 3,
     "metadata": {},
     "output_type": "execute_result"
    }
   ],
   "source": [
    "type(i)\n",
    "\n",
    "#Data type is int"
   ]
  },
  {
   "cell_type": "code",
   "execution_count": 4,
   "id": "7658d06c",
   "metadata": {},
   "outputs": [
    {
     "data": {
      "text/plain": [
       "1231351081552"
      ]
     },
     "execution_count": 4,
     "metadata": {},
     "output_type": "execute_result"
    }
   ],
   "source": [
    "id(i)\n",
    "\n",
    "#Memory location"
   ]
  },
  {
   "cell_type": "code",
   "execution_count": 5,
   "id": "e3d4f4d2",
   "metadata": {},
   "outputs": [
    {
     "data": {
      "text/plain": [
       "10"
      ]
     },
     "execution_count": 5,
     "metadata": {},
     "output_type": "execute_result"
    }
   ],
   "source": [
    "i"
   ]
  },
  {
   "cell_type": "code",
   "execution_count": 6,
   "id": "c9d161e4",
   "metadata": {},
   "outputs": [
    {
     "name": "stdout",
     "output_type": "stream",
     "text": [
      "10\n"
     ]
    }
   ],
   "source": [
    "print(i)"
   ]
  },
  {
   "cell_type": "code",
   "execution_count": null,
   "id": "a672ac4a",
   "metadata": {},
   "outputs": [],
   "source": []
  },
  {
   "cell_type": "markdown",
   "id": "d2e8a1e2",
   "metadata": {},
   "source": [
    "### Strings\n",
    "\n",
    "- String: Collection of a characters\n",
    "\n",
    "- Characters: define by double/single quotes\n",
    "\n",
    "- immutable: once you create then it can't be changed "
   ]
  },
  {
   "cell_type": "code",
   "execution_count": 7,
   "id": "9a10e9a7",
   "metadata": {},
   "outputs": [],
   "source": [
    "s='Welcome'"
   ]
  },
  {
   "cell_type": "code",
   "execution_count": 8,
   "id": "88eb6d1d",
   "metadata": {},
   "outputs": [
    {
     "data": {
      "text/plain": [
       "'Welcome'"
      ]
     },
     "execution_count": 8,
     "metadata": {},
     "output_type": "execute_result"
    }
   ],
   "source": [
    "s"
   ]
  },
  {
   "cell_type": "code",
   "execution_count": 9,
   "id": "39138a6c",
   "metadata": {},
   "outputs": [
    {
     "name": "stdout",
     "output_type": "stream",
     "text": [
      "<class 'str'>\n"
     ]
    }
   ],
   "source": [
    "print(type(s))"
   ]
  },
  {
   "cell_type": "code",
   "execution_count": 10,
   "id": "dbcec60f",
   "metadata": {},
   "outputs": [
    {
     "data": {
      "text/plain": [
       "7"
      ]
     },
     "execution_count": 10,
     "metadata": {},
     "output_type": "execute_result"
    }
   ],
   "source": [
    "len(s)\n",
    "\n",
    "#to count the length of the string,tuple, lists and internal function to python"
   ]
  },
  {
   "cell_type": "code",
   "execution_count": 11,
   "id": "a403ab5d",
   "metadata": {},
   "outputs": [
    {
     "name": "stdout",
     "output_type": "stream",
     "text": [
      "Welcome\n"
     ]
    }
   ],
   "source": [
    "print(s)"
   ]
  },
  {
   "cell_type": "markdown",
   "id": "02f58b89",
   "metadata": {},
   "source": [
    "#### use i. or s. it will give attributes regarding that function"
   ]
  },
  {
   "cell_type": "markdown",
   "id": "c84459b0",
   "metadata": {},
   "source": [
    "### Indexing"
   ]
  },
  {
   "cell_type": "markdown",
   "id": "3c522c04",
   "metadata": {},
   "source": [
    "#### Positive"
   ]
  },
  {
   "cell_type": "code",
   "execution_count": 12,
   "id": "a0c3148d",
   "metadata": {},
   "outputs": [
    {
     "data": {
      "text/plain": [
       "'W'"
      ]
     },
     "execution_count": 12,
     "metadata": {},
     "output_type": "execute_result"
    }
   ],
   "source": [
    "s[0]"
   ]
  },
  {
   "cell_type": "code",
   "execution_count": 13,
   "id": "a21b0e17",
   "metadata": {},
   "outputs": [
    {
     "data": {
      "text/plain": [
       "'c'"
      ]
     },
     "execution_count": 13,
     "metadata": {},
     "output_type": "execute_result"
    }
   ],
   "source": [
    "s[3]"
   ]
  },
  {
   "cell_type": "code",
   "execution_count": 14,
   "id": "a80dbd5f",
   "metadata": {},
   "outputs": [
    {
     "ename": "IndexError",
     "evalue": "string index out of range",
     "output_type": "error",
     "traceback": [
      "\u001b[1;31m---------------------------------------------------------------------------\u001b[0m",
      "\u001b[1;31mIndexError\u001b[0m                                Traceback (most recent call last)",
      "Cell \u001b[1;32mIn [14], line 1\u001b[0m\n\u001b[1;32m----> 1\u001b[0m \u001b[43ms\u001b[49m\u001b[43m[\u001b[49m\u001b[38;5;241;43m7\u001b[39;49m\u001b[43m]\u001b[49m\n",
      "\u001b[1;31mIndexError\u001b[0m: string index out of range"
     ]
    }
   ],
   "source": [
    "s[7]"
   ]
  },
  {
   "cell_type": "markdown",
   "id": "b8321970",
   "metadata": {},
   "source": [
    "#### Negative"
   ]
  },
  {
   "cell_type": "code",
   "execution_count": 15,
   "id": "ec35aaa6",
   "metadata": {},
   "outputs": [
    {
     "data": {
      "text/plain": [
       "'W'"
      ]
     },
     "execution_count": 15,
     "metadata": {},
     "output_type": "execute_result"
    }
   ],
   "source": [
    "s[-7]"
   ]
  },
  {
   "cell_type": "code",
   "execution_count": 16,
   "id": "d6f6c904",
   "metadata": {},
   "outputs": [
    {
     "data": {
      "text/plain": [
       "'m'"
      ]
     },
     "execution_count": 16,
     "metadata": {},
     "output_type": "execute_result"
    }
   ],
   "source": [
    "s[-2]"
   ]
  },
  {
   "cell_type": "markdown",
   "id": "4822fa7a",
   "metadata": {},
   "source": [
    "#### Slicing \n",
    "\n",
    "- can be used on any data type\n",
    "\n",
    "- extracts a substring from a string\n",
    "\n",
    "- syntax: startpos:endpos:skip count/direction\n",
    "\n",
    "- startpos:included, endpos: excluded"
   ]
  },
  {
   "cell_type": "code",
   "execution_count": 17,
   "id": "f0de9ccd",
   "metadata": {},
   "outputs": [
    {
     "data": {
      "text/plain": [
       "'Wel'"
      ]
     },
     "execution_count": 17,
     "metadata": {},
     "output_type": "execute_result"
    }
   ],
   "source": [
    "s[0:3]"
   ]
  },
  {
   "cell_type": "code",
   "execution_count": 20,
   "id": "cb9a9436",
   "metadata": {},
   "outputs": [
    {
     "data": {
      "text/plain": [
       "'come'"
      ]
     },
     "execution_count": 20,
     "metadata": {},
     "output_type": "execute_result"
    }
   ],
   "source": [
    "s[3:8]\n",
    "\n",
    " #8 doesnt exist in string but python will display till last letter."
   ]
  },
  {
   "cell_type": "code",
   "execution_count": 21,
   "id": "31455e9c",
   "metadata": {},
   "outputs": [
    {
     "data": {
      "text/plain": [
       "'come'"
      ]
     },
     "execution_count": 21,
     "metadata": {},
     "output_type": "execute_result"
    }
   ],
   "source": [
    "s[3:]\n",
    "\n",
    "#It will assume that it need to print till end"
   ]
  },
  {
   "cell_type": "code",
   "execution_count": 22,
   "id": "dbe916dd",
   "metadata": {},
   "outputs": [
    {
     "data": {
      "text/plain": [
       "'Wel'"
      ]
     },
     "execution_count": 22,
     "metadata": {},
     "output_type": "execute_result"
    }
   ],
   "source": [
    "s[:3]\n",
    "\n",
    "#It will display till 0:3 characters(excluding)"
   ]
  },
  {
   "cell_type": "code",
   "execution_count": 23,
   "id": "6694a636",
   "metadata": {},
   "outputs": [
    {
     "data": {
      "text/plain": [
       "'Welcome'"
      ]
     },
     "execution_count": 23,
     "metadata": {},
     "output_type": "execute_result"
    }
   ],
   "source": [
    "s[:]\n",
    "\n",
    "#It will print whole string as we haven't provided any specific number"
   ]
  },
  {
   "cell_type": "code",
   "execution_count": 24,
   "id": "a18faa72",
   "metadata": {},
   "outputs": [
    {
     "data": {
      "text/plain": [
       "'lcom'"
      ]
     },
     "execution_count": 24,
     "metadata": {},
     "output_type": "execute_result"
    }
   ],
   "source": [
    "s[-5:-1]\n",
    "\n",
    "#Slicing for negative start from -1 and you need to specify endpoint if it's between or else if it's last then you can keep it empty"
   ]
  },
  {
   "cell_type": "code",
   "execution_count": 28,
   "id": "acc3d881",
   "metadata": {},
   "outputs": [
    {
     "data": {
      "text/plain": [
       "'Wloe'"
      ]
     },
     "execution_count": 28,
     "metadata": {},
     "output_type": "execute_result"
    }
   ],
   "source": [
    "s[::2]\n",
    "\n",
    "#Python will skip 2elements of the string"
   ]
  },
  {
   "cell_type": "code",
   "execution_count": 32,
   "id": "152dd8fb",
   "metadata": {},
   "outputs": [
    {
     "data": {
      "text/plain": [
       "'emocleW'"
      ]
     },
     "execution_count": 32,
     "metadata": {},
     "output_type": "execute_result"
    }
   ],
   "source": [
    "s[::-1]\n",
    "\n",
    "#It will read reverse so you can see it in reverse order"
   ]
  },
  {
   "cell_type": "code",
   "execution_count": 35,
   "id": "4e0f2e55",
   "metadata": {},
   "outputs": [
    {
     "data": {
      "text/plain": [
       "'lc'"
      ]
     },
     "execution_count": 35,
     "metadata": {},
     "output_type": "execute_result"
    }
   ],
   "source": [
    "s[2:4:1]"
   ]
  },
  {
   "cell_type": "code",
   "execution_count": 34,
   "id": "87991920",
   "metadata": {},
   "outputs": [
    {
     "data": {
      "text/plain": [
       "'l'"
      ]
     },
     "execution_count": 34,
     "metadata": {},
     "output_type": "execute_result"
    }
   ],
   "source": [
    "s[2:4:2]"
   ]
  },
  {
   "cell_type": "code",
   "execution_count": 36,
   "id": "d97373a5",
   "metadata": {},
   "outputs": [
    {
     "data": {
      "text/plain": [
       "'welcome'"
      ]
     },
     "execution_count": 36,
     "metadata": {},
     "output_type": "execute_result"
    }
   ],
   "source": [
    "s.replace(\"W\",\"w\")\n",
    "\n",
    "#Replacing character or do #s=s.replace(\"W\",\"w\") to make permanent change in the string"
   ]
  },
  {
   "cell_type": "code",
   "execution_count": 38,
   "id": "a83a236b",
   "metadata": {},
   "outputs": [
    {
     "data": {
      "text/plain": [
       "2"
      ]
     },
     "execution_count": 38,
     "metadata": {},
     "output_type": "execute_result"
    }
   ],
   "source": [
    "#Finding index number of a string\n",
    "\n",
    "s.index(\"l\")\n",
    "\n",
    "#shift+tab+tab will give explanation of the function"
   ]
  },
  {
   "cell_type": "markdown",
   "id": "059b72f9",
   "metadata": {},
   "source": [
    "#### Strings cannot be concatenate with integer"
   ]
  },
  {
   "cell_type": "code",
   "execution_count": 39,
   "id": "e5ffa818",
   "metadata": {},
   "outputs": [
    {
     "ename": "TypeError",
     "evalue": "can only concatenate str (not \"int\") to str",
     "output_type": "error",
     "traceback": [
      "\u001b[1;31m---------------------------------------------------------------------------\u001b[0m",
      "\u001b[1;31mTypeError\u001b[0m                                 Traceback (most recent call last)",
      "Cell \u001b[1;32mIn [39], line 1\u001b[0m\n\u001b[1;32m----> 1\u001b[0m \u001b[43ms\u001b[49m\u001b[38;5;241;43m+\u001b[39;49m\u001b[38;5;241;43m10\u001b[39;49m\n",
      "\u001b[1;31mTypeError\u001b[0m: can only concatenate str (not \"int\") to str"
     ]
    }
   ],
   "source": [
    "s+10"
   ]
  },
  {
   "cell_type": "code",
   "execution_count": 40,
   "id": "f9b22e04",
   "metadata": {},
   "outputs": [],
   "source": [
    "t=\"Welcome\""
   ]
  },
  {
   "cell_type": "code",
   "execution_count": 42,
   "id": "488c8bbd",
   "metadata": {},
   "outputs": [
    {
     "data": {
      "text/plain": [
       "'WelcomeWelcome'"
      ]
     },
     "execution_count": 42,
     "metadata": {},
     "output_type": "execute_result"
    }
   ],
   "source": [
    "s+t\n",
    "\n",
    "#Strings can be concatenate with strings only"
   ]
  },
  {
   "cell_type": "code",
   "execution_count": 44,
   "id": "89696ca5",
   "metadata": {},
   "outputs": [
    {
     "data": {
      "text/plain": [
       "'WelcomeWelcomeWelcome'"
      ]
     },
     "execution_count": 44,
     "metadata": {},
     "output_type": "execute_result"
    }
   ],
   "source": [
    "s*3\n",
    "\n",
    "#Concatenation is only applicable for addition/subtraction not for multiplication"
   ]
  },
  {
   "cell_type": "code",
   "execution_count": 48,
   "id": "51cbfbc3",
   "metadata": {},
   "outputs": [
    {
     "data": {
      "text/plain": [
       "'Welcome10'"
      ]
     },
     "execution_count": 48,
     "metadata": {},
     "output_type": "execute_result"
    }
   ],
   "source": [
    "s+\"10\"\n",
    "\n",
    "#So here \"\" is quoted so it will take it as a string."
   ]
  },
  {
   "cell_type": "markdown",
   "id": "e03fbd1a",
   "metadata": {},
   "source": [
    "#### Lists\n",
    " - ordered collection of items/objection/elements"
   ]
  },
  {
   "cell_type": "code",
   "execution_count": 63,
   "id": "eca76efb",
   "metadata": {},
   "outputs": [],
   "source": [
    "Language= [\"C\",\"Cpp\",\"Java\",\"C+\"]\n",
    "\n",
    "#This is list"
   ]
  },
  {
   "cell_type": "code",
   "execution_count": 64,
   "id": "f8e09144",
   "metadata": {},
   "outputs": [
    {
     "data": {
      "text/plain": [
       "['C', 'Cpp', 'Java', 'C+']"
      ]
     },
     "execution_count": 64,
     "metadata": {},
     "output_type": "execute_result"
    }
   ],
   "source": [
    "Language"
   ]
  },
  {
   "cell_type": "code",
   "execution_count": 65,
   "id": "ee2a3c29",
   "metadata": {},
   "outputs": [
    {
     "name": "stdout",
     "output_type": "stream",
     "text": [
      "['C', 'Cpp', 'Java', 'C+']\n"
     ]
    }
   ],
   "source": [
    "print(Language)"
   ]
  },
  {
   "cell_type": "code",
   "execution_count": 66,
   "id": "5b9aeefb",
   "metadata": {},
   "outputs": [
    {
     "data": {
      "text/plain": [
       "list"
      ]
     },
     "execution_count": 66,
     "metadata": {},
     "output_type": "execute_result"
    }
   ],
   "source": [
    "type(Language)"
   ]
  },
  {
   "cell_type": "code",
   "execution_count": 67,
   "id": "e0766c5f",
   "metadata": {},
   "outputs": [
    {
     "data": {
      "text/plain": [
       "'C'"
      ]
     },
     "execution_count": 67,
     "metadata": {},
     "output_type": "execute_result"
    }
   ],
   "source": [
    "Language[0]\n",
    "\n",
    "# \"[]\" used for function "
   ]
  },
  {
   "cell_type": "code",
   "execution_count": 68,
   "id": "e69a42ed",
   "metadata": {},
   "outputs": [
    {
     "data": {
      "text/plain": [
       "['C', 'Cpp', 'Java', 'C+']"
      ]
     },
     "execution_count": 68,
     "metadata": {},
     "output_type": "execute_result"
    }
   ],
   "source": [
    "Language[0:4]"
   ]
  },
  {
   "cell_type": "code",
   "execution_count": 69,
   "id": "60d81dce",
   "metadata": {},
   "outputs": [
    {
     "data": {
      "text/plain": [
       "'J'"
      ]
     },
     "execution_count": 69,
     "metadata": {},
     "output_type": "execute_result"
    }
   ],
   "source": [
    "Language[2][0]\n",
    "\n",
    "#To find indexing of the string"
   ]
  },
  {
   "cell_type": "code",
   "execution_count": 73,
   "id": "c99af5f6",
   "metadata": {},
   "outputs": [],
   "source": [
    "#Here we can replace \"c+\" with \n",
    "\n",
    "Language[3]= [\"Python\", \"scipy\", \"pandas\"]\n",
    "\n",
    "#So we can see here c+ is replace with above values and they're called as 3[0](python), 3[1] scipy and 3[2] pandas"
   ]
  },
  {
   "cell_type": "code",
   "execution_count": 72,
   "id": "90b7b3f9",
   "metadata": {},
   "outputs": [
    {
     "data": {
      "text/plain": [
       "'a'"
      ]
     },
     "execution_count": 72,
     "metadata": {},
     "output_type": "execute_result"
    }
   ],
   "source": [
    "Language[3][2][1]"
   ]
  },
  {
   "cell_type": "code",
   "execution_count": null,
   "id": "65359023",
   "metadata": {},
   "outputs": [],
   "source": []
  }
 ],
 "metadata": {
  "kernelspec": {
   "display_name": "Python 3 (ipykernel)",
   "language": "python",
   "name": "python3"
  },
  "language_info": {
   "codemirror_mode": {
    "name": "ipython",
    "version": 3
   },
   "file_extension": ".py",
   "mimetype": "text/x-python",
   "name": "python",
   "nbconvert_exporter": "python",
   "pygments_lexer": "ipython3",
   "version": "3.9.12"
  },
  "varInspector": {
   "cols": {
    "lenName": 16,
    "lenType": 16,
    "lenVar": 40
   },
   "kernels_config": {
    "python": {
     "delete_cmd_postfix": "",
     "delete_cmd_prefix": "del ",
     "library": "var_list.py",
     "varRefreshCmd": "print(var_dic_list())"
    },
    "r": {
     "delete_cmd_postfix": ") ",
     "delete_cmd_prefix": "rm(",
     "library": "var_list.r",
     "varRefreshCmd": "cat(var_dic_list()) "
    }
   },
   "types_to_exclude": [
    "module",
    "function",
    "builtin_function_or_method",
    "instance",
    "_Feature"
   ],
   "window_display": false
  }
 },
 "nbformat": 4,
 "nbformat_minor": 5
}
