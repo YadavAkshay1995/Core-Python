{
 "cells": [
  {
   "cell_type": "code",
   "execution_count": 2,
   "id": "319e45f3",
   "metadata": {},
   "outputs": [],
   "source": [
    "#Append #Insert #Remove #Pop #Sort #Del #Index #Count- List"
   ]
  },
  {
   "cell_type": "markdown",
   "id": "b4a3d147",
   "metadata": {},
   "source": [
    "##### Float\n",
    "- Any number having decimal is called Float"
   ]
  },
  {
   "cell_type": "code",
   "execution_count": 3,
   "id": "9bab6f20",
   "metadata": {},
   "outputs": [],
   "source": [
    "f=3.14"
   ]
  },
  {
   "cell_type": "code",
   "execution_count": 4,
   "id": "e3044709",
   "metadata": {},
   "outputs": [
    {
     "data": {
      "text/plain": [
       "float"
      ]
     },
     "execution_count": 4,
     "metadata": {},
     "output_type": "execute_result"
    }
   ],
   "source": [
    "type(f)"
   ]
  },
  {
   "cell_type": "code",
   "execution_count": 5,
   "id": "e37cc0a4",
   "metadata": {},
   "outputs": [],
   "source": [
    "num=10"
   ]
  },
  {
   "cell_type": "code",
   "execution_count": 6,
   "id": "1fba057b",
   "metadata": {},
   "outputs": [
    {
     "data": {
      "text/plain": [
       "int"
      ]
     },
     "execution_count": 6,
     "metadata": {},
     "output_type": "execute_result"
    }
   ],
   "source": [
    "type(num)"
   ]
  },
  {
   "cell_type": "code",
   "execution_count": 7,
   "id": "c176c73f",
   "metadata": {},
   "outputs": [],
   "source": [
    "s='Welcome'"
   ]
  },
  {
   "cell_type": "code",
   "execution_count": 8,
   "id": "f803c3b5",
   "metadata": {},
   "outputs": [
    {
     "data": {
      "text/plain": [
       "str"
      ]
     },
     "execution_count": 8,
     "metadata": {},
     "output_type": "execute_result"
    }
   ],
   "source": [
    "type(s)"
   ]
  },
  {
   "cell_type": "code",
   "execution_count": 9,
   "id": "aeb52b8b",
   "metadata": {},
   "outputs": [],
   "source": [
    "a=True"
   ]
  },
  {
   "cell_type": "code",
   "execution_count": 10,
   "id": "51cc0047",
   "metadata": {},
   "outputs": [
    {
     "data": {
      "text/plain": [
       "bool"
      ]
     },
     "execution_count": 10,
     "metadata": {},
     "output_type": "execute_result"
    }
   ],
   "source": [
    "type(a)"
   ]
  },
  {
   "cell_type": "code",
   "execution_count": 11,
   "id": "c17233d7",
   "metadata": {},
   "outputs": [
    {
     "data": {
      "text/plain": [
       "complex"
      ]
     },
     "execution_count": 11,
     "metadata": {},
     "output_type": "execute_result"
    }
   ],
   "source": [
    "a=3+2j\n",
    "type(a)"
   ]
  },
  {
   "cell_type": "code",
   "execution_count": 12,
   "id": "2c6e410a",
   "metadata": {},
   "outputs": [
    {
     "data": {
      "text/plain": [
       "22"
      ]
     },
     "execution_count": 12,
     "metadata": {},
     "output_type": "execute_result"
    }
   ],
   "source": [
    "#Addition\n",
    "18+4"
   ]
  },
  {
   "cell_type": "code",
   "execution_count": 13,
   "id": "943ee207",
   "metadata": {},
   "outputs": [
    {
     "data": {
      "text/plain": [
       "14"
      ]
     },
     "execution_count": 13,
     "metadata": {},
     "output_type": "execute_result"
    }
   ],
   "source": [
    "#Subtraction\n",
    "18-4"
   ]
  },
  {
   "cell_type": "code",
   "execution_count": 14,
   "id": "d950263c",
   "metadata": {},
   "outputs": [
    {
     "data": {
      "text/plain": [
       "72"
      ]
     },
     "execution_count": 14,
     "metadata": {},
     "output_type": "execute_result"
    }
   ],
   "source": [
    "#Multiplication\n",
    "18*4"
   ]
  },
  {
   "cell_type": "code",
   "execution_count": 15,
   "id": "5c66eb3f",
   "metadata": {},
   "outputs": [
    {
     "data": {
      "text/plain": [
       "4.5"
      ]
     },
     "execution_count": 15,
     "metadata": {},
     "output_type": "execute_result"
    }
   ],
   "source": [
    "#Division\n",
    "18/4"
   ]
  },
  {
   "cell_type": "code",
   "execution_count": 16,
   "id": "6883c226",
   "metadata": {},
   "outputs": [
    {
     "data": {
      "text/plain": [
       "4"
      ]
     },
     "execution_count": 16,
     "metadata": {},
     "output_type": "execute_result"
    }
   ],
   "source": [
    "#To remove decimal point in division we do this step\n",
    "18//4"
   ]
  },
  {
   "cell_type": "code",
   "execution_count": 17,
   "id": "e732b3dc",
   "metadata": {},
   "outputs": [
    {
     "data": {
      "text/plain": [
       "2"
      ]
     },
     "execution_count": 17,
     "metadata": {},
     "output_type": "execute_result"
    }
   ],
   "source": [
    "18%4\n",
    "\n",
    "#Output is remainder"
   ]
  },
  {
   "cell_type": "markdown",
   "id": "d6752f0d",
   "metadata": {},
   "source": [
    "### List Operations"
   ]
  },
  {
   "cell_type": "markdown",
   "id": "680de65d",
   "metadata": {},
   "source": [
    "#### Append\n",
    "- Always add's an element/object at the end of the list"
   ]
  },
  {
   "cell_type": "code",
   "execution_count": 18,
   "id": "defb8367",
   "metadata": {},
   "outputs": [],
   "source": [
    "languages=[\"Cpp\",\"Java\",\"C+\"]"
   ]
  },
  {
   "cell_type": "code",
   "execution_count": 19,
   "id": "64870cbe",
   "metadata": {},
   "outputs": [
    {
     "data": {
      "text/plain": [
       "['Cpp', 'Java', 'C+']"
      ]
     },
     "execution_count": 19,
     "metadata": {},
     "output_type": "execute_result"
    }
   ],
   "source": [
    "languages"
   ]
  },
  {
   "cell_type": "code",
   "execution_count": 20,
   "id": "3bb19ed7",
   "metadata": {},
   "outputs": [],
   "source": [
    "languages.append(\"Python\")"
   ]
  },
  {
   "cell_type": "code",
   "execution_count": 21,
   "id": "6a7457d0",
   "metadata": {},
   "outputs": [
    {
     "data": {
      "text/plain": [
       "['Cpp', 'Java', 'C+', 'Python']"
      ]
     },
     "execution_count": 21,
     "metadata": {},
     "output_type": "execute_result"
    }
   ],
   "source": [
    "languages"
   ]
  },
  {
   "cell_type": "markdown",
   "id": "81e4d7c5",
   "metadata": {},
   "source": [
    "#### Insert\n",
    "- Inserts an element/object at specified Index."
   ]
  },
  {
   "cell_type": "code",
   "execution_count": 22,
   "id": "9ef1c467",
   "metadata": {},
   "outputs": [],
   "source": [
    "languages.insert(1,\"Perl\")"
   ]
  },
  {
   "cell_type": "code",
   "execution_count": 23,
   "id": "a58a8d05",
   "metadata": {},
   "outputs": [
    {
     "data": {
      "text/plain": [
       "['Cpp', 'Perl', 'Java', 'C+', 'Python']"
      ]
     },
     "execution_count": 23,
     "metadata": {},
     "output_type": "execute_result"
    }
   ],
   "source": [
    "languages"
   ]
  },
  {
   "cell_type": "code",
   "execution_count": 24,
   "id": "2385566f",
   "metadata": {},
   "outputs": [],
   "source": [
    "#Negative Indexing"
   ]
  },
  {
   "cell_type": "code",
   "execution_count": 25,
   "id": "63a23b6e",
   "metadata": {},
   "outputs": [],
   "source": [
    "languages.insert(-2,\"Ruby\")"
   ]
  },
  {
   "cell_type": "code",
   "execution_count": 26,
   "id": "d1d8a5a5",
   "metadata": {},
   "outputs": [
    {
     "data": {
      "text/plain": [
       "['Cpp', 'Perl', 'Java', 'Ruby', 'C+', 'Python']"
      ]
     },
     "execution_count": 26,
     "metadata": {},
     "output_type": "execute_result"
    }
   ],
   "source": [
    "languages"
   ]
  },
  {
   "cell_type": "code",
   "execution_count": 27,
   "id": "453a29dd",
   "metadata": {},
   "outputs": [
    {
     "name": "stdout",
     "output_type": "stream",
     "text": [
      "Help on method_descriptor:\n",
      "\n",
      "insert(self, index, object, /)\n",
      "    Insert object before index.\n",
      "\n"
     ]
    }
   ],
   "source": [
    "help(list.insert)"
   ]
  },
  {
   "cell_type": "markdown",
   "id": "81a70411",
   "metadata": {},
   "source": [
    "#### Remove\n",
    "- Removes an element/object based on value"
   ]
  },
  {
   "cell_type": "code",
   "execution_count": 28,
   "id": "136e8c87",
   "metadata": {},
   "outputs": [
    {
     "data": {
      "text/plain": [
       "['Cpp', 'Perl', 'Java', 'Ruby', 'C+', 'Python']"
      ]
     },
     "execution_count": 28,
     "metadata": {},
     "output_type": "execute_result"
    }
   ],
   "source": [
    "languages"
   ]
  },
  {
   "cell_type": "code",
   "execution_count": 29,
   "id": "91a9caa6",
   "metadata": {},
   "outputs": [],
   "source": [
    "languages.remove(\"Java\")"
   ]
  },
  {
   "cell_type": "code",
   "execution_count": 30,
   "id": "61c5d11d",
   "metadata": {},
   "outputs": [
    {
     "data": {
      "text/plain": [
       "['Cpp', 'Perl', 'Ruby', 'C+', 'Python']"
      ]
     },
     "execution_count": 30,
     "metadata": {},
     "output_type": "execute_result"
    }
   ],
   "source": [
    "languages\n",
    "\n",
    "#Java is being removed from the list"
   ]
  },
  {
   "cell_type": "code",
   "execution_count": 32,
   "id": "73ae5e1f",
   "metadata": {},
   "outputs": [
    {
     "ename": "NameError",
     "evalue": "name 'language' is not defined",
     "output_type": "error",
     "traceback": [
      "\u001b[1;31m---------------------------------------------------------------------------\u001b[0m",
      "\u001b[1;31mNameError\u001b[0m                                 Traceback (most recent call last)",
      "Cell \u001b[1;32mIn [32], line 1\u001b[0m\n\u001b[1;32m----> 1\u001b[0m \u001b[43mlanguage\u001b[49m\u001b[38;5;241m.\u001b[39mremove(\u001b[38;5;124m\"\u001b[39m\u001b[38;5;124mperl\u001b[39m\u001b[38;5;124m\"\u001b[39m)\n",
      "\u001b[1;31mNameError\u001b[0m: name 'language' is not defined"
     ]
    }
   ],
   "source": [
    "language.remove(\"perl\")\n",
    "\n",
    "#It will not remove the element as it is CASE Sensitive so you need to put it in as \"P\""
   ]
  },
  {
   "cell_type": "markdown",
   "id": "e48f37f7",
   "metadata": {},
   "source": [
    "#### Pop\n",
    "- removes an element based on index, by default index is -1"
   ]
  },
  {
   "cell_type": "code",
   "execution_count": 33,
   "id": "c2b284d3",
   "metadata": {},
   "outputs": [
    {
     "data": {
      "text/plain": [
       "'Perl'"
      ]
     },
     "execution_count": 33,
     "metadata": {},
     "output_type": "execute_result"
    }
   ],
   "source": [
    "languages.pop(1)"
   ]
  },
  {
   "cell_type": "code",
   "execution_count": 34,
   "id": "d55bbd7f",
   "metadata": {},
   "outputs": [
    {
     "data": {
      "text/plain": [
       "['Cpp', 'Ruby', 'C+', 'Python']"
      ]
     },
     "execution_count": 34,
     "metadata": {},
     "output_type": "execute_result"
    }
   ],
   "source": [
    "languages"
   ]
  },
  {
   "cell_type": "code",
   "execution_count": 35,
   "id": "4715db9e",
   "metadata": {},
   "outputs": [
    {
     "data": {
      "text/plain": [
       "'Python'"
      ]
     },
     "execution_count": 35,
     "metadata": {},
     "output_type": "execute_result"
    }
   ],
   "source": [
    "languages.pop(3)"
   ]
  },
  {
   "cell_type": "code",
   "execution_count": 36,
   "id": "8c3b7d71",
   "metadata": {},
   "outputs": [
    {
     "data": {
      "text/plain": [
       "['Cpp', 'Ruby', 'C+']"
      ]
     },
     "execution_count": 36,
     "metadata": {},
     "output_type": "execute_result"
    }
   ],
   "source": [
    "languages"
   ]
  },
  {
   "cell_type": "code",
   "execution_count": 37,
   "id": "f812f417",
   "metadata": {},
   "outputs": [
    {
     "data": {
      "text/plain": [
       "'C+'"
      ]
     },
     "execution_count": 37,
     "metadata": {},
     "output_type": "execute_result"
    }
   ],
   "source": [
    "#To remove last element just use ()\n",
    "languages.pop()"
   ]
  },
  {
   "cell_type": "markdown",
   "id": "bc314a84",
   "metadata": {},
   "source": [
    "#### Delete Keyword"
   ]
  },
  {
   "cell_type": "code",
   "execution_count": 38,
   "id": "8f19bb4b",
   "metadata": {},
   "outputs": [],
   "source": [
    "languages.append(\"Rust\")"
   ]
  },
  {
   "cell_type": "code",
   "execution_count": 39,
   "id": "253a8679",
   "metadata": {},
   "outputs": [],
   "source": [
    "languages.append(\"Scala\")"
   ]
  },
  {
   "cell_type": "code",
   "execution_count": 40,
   "id": "36ad9198",
   "metadata": {},
   "outputs": [],
   "source": [
    "languages.append(\"JavaScript\")"
   ]
  },
  {
   "cell_type": "code",
   "execution_count": 41,
   "id": "d35fcbb7",
   "metadata": {},
   "outputs": [
    {
     "data": {
      "text/plain": [
       "['Cpp', 'Ruby', 'Rust', 'Scala', 'JavaScript']"
      ]
     },
     "execution_count": 41,
     "metadata": {},
     "output_type": "execute_result"
    }
   ],
   "source": [
    "languages"
   ]
  },
  {
   "cell_type": "code",
   "execution_count": 42,
   "id": "ce1cd1c7",
   "metadata": {},
   "outputs": [],
   "source": [
    "del languages[0:4]\n",
    "\n",
    "#By using this we can delete elements of list by giving specific index"
   ]
  },
  {
   "cell_type": "code",
   "execution_count": 43,
   "id": "c092395f",
   "metadata": {},
   "outputs": [
    {
     "data": {
      "text/plain": [
       "['JavaScript']"
      ]
     },
     "execution_count": 43,
     "metadata": {},
     "output_type": "execute_result"
    }
   ],
   "source": [
    "languages"
   ]
  },
  {
   "cell_type": "markdown",
   "id": "23877938",
   "metadata": {},
   "source": [
    "#### Append (Using Lists)"
   ]
  },
  {
   "cell_type": "code",
   "execution_count": 44,
   "id": "10da38dc",
   "metadata": {},
   "outputs": [],
   "source": [
    "languages.append(\"C\")"
   ]
  },
  {
   "cell_type": "code",
   "execution_count": 45,
   "id": "26171859",
   "metadata": {},
   "outputs": [],
   "source": [
    "languages.append(\"Perl\")"
   ]
  },
  {
   "cell_type": "code",
   "execution_count": 46,
   "id": "17f658dc",
   "metadata": {},
   "outputs": [],
   "source": [
    "languages.append(\"VB\")"
   ]
  },
  {
   "cell_type": "code",
   "execution_count": 47,
   "id": "bcc35e08",
   "metadata": {},
   "outputs": [],
   "source": [
    "languages.append(\"VC\")"
   ]
  },
  {
   "cell_type": "code",
   "execution_count": 48,
   "id": "58f7bcf4",
   "metadata": {},
   "outputs": [
    {
     "data": {
      "text/plain": [
       "['JavaScript', 'C', 'Perl', 'VB', 'VC']"
      ]
     },
     "execution_count": 48,
     "metadata": {},
     "output_type": "execute_result"
    }
   ],
   "source": [
    "languages"
   ]
  },
  {
   "cell_type": "code",
   "execution_count": 49,
   "id": "01059776",
   "metadata": {},
   "outputs": [],
   "source": [
    "nums=[100,200,300]"
   ]
  },
  {
   "cell_type": "code",
   "execution_count": 50,
   "id": "9462eb96",
   "metadata": {},
   "outputs": [],
   "source": [
    "languages.append(nums)"
   ]
  },
  {
   "cell_type": "code",
   "execution_count": 51,
   "id": "a326d166",
   "metadata": {},
   "outputs": [
    {
     "data": {
      "text/plain": [
       "['JavaScript', 'C', 'Perl', 'VB', 'VC', [100, 200, 300]]"
      ]
     },
     "execution_count": 51,
     "metadata": {},
     "output_type": "execute_result"
    }
   ],
   "source": [
    "languages\n",
    "\n",
    "#So python will take \"nums\" as object and will display in it's list"
   ]
  },
  {
   "cell_type": "code",
   "execution_count": 52,
   "id": "7bfad762",
   "metadata": {},
   "outputs": [
    {
     "data": {
      "text/plain": [
       "100"
      ]
     },
     "execution_count": 52,
     "metadata": {},
     "output_type": "execute_result"
    }
   ],
   "source": [
    "languages[-1][0]\n",
    "\n",
    "#To extract specific index we use this or else we can use [6][0] also"
   ]
  },
  {
   "cell_type": "code",
   "execution_count": 53,
   "id": "39a9d976",
   "metadata": {},
   "outputs": [],
   "source": [
    "#We can add a string to the list\n",
    "s='Welcome'"
   ]
  },
  {
   "cell_type": "code",
   "execution_count": 54,
   "id": "1d0279e7",
   "metadata": {},
   "outputs": [],
   "source": [
    "languages.append(s)"
   ]
  },
  {
   "cell_type": "code",
   "execution_count": 55,
   "id": "f67abf2c",
   "metadata": {},
   "outputs": [
    {
     "data": {
      "text/plain": [
       "['JavaScript', 'C', 'Perl', 'VB', 'VC', [100, 200, 300], 'Welcome']"
      ]
     },
     "execution_count": 55,
     "metadata": {},
     "output_type": "execute_result"
    }
   ],
   "source": [
    "languages"
   ]
  },
  {
   "cell_type": "markdown",
   "id": "b8307f8e",
   "metadata": {},
   "source": [
    "#### Extend\n",
    "- Extends the list with the elements for the container/objects passed.\n",
    "- Increases the length of list by the length of object used to extend"
   ]
  },
  {
   "cell_type": "code",
   "execution_count": 56,
   "id": "0c79b135",
   "metadata": {},
   "outputs": [
    {
     "data": {
      "text/plain": [
       "['JavaScript', 'C', 'Perl', 'VB', 'VC', [100, 200, 300], 'Welcome']"
      ]
     },
     "execution_count": 56,
     "metadata": {},
     "output_type": "execute_result"
    }
   ],
   "source": [
    "languages"
   ]
  },
  {
   "cell_type": "code",
   "execution_count": 57,
   "id": "3cf0e5d0",
   "metadata": {},
   "outputs": [],
   "source": [
    "another_list=[\"TCS\",\"INFY\",\"IBM\"]"
   ]
  },
  {
   "cell_type": "code",
   "execution_count": 58,
   "id": "f4e0ab7c",
   "metadata": {},
   "outputs": [],
   "source": [
    "languages.extend(another_list)\n",
    "\n",
    "#So here we have used extend function to add list to existing list"
   ]
  },
  {
   "cell_type": "code",
   "execution_count": 59,
   "id": "a2ae6993",
   "metadata": {},
   "outputs": [
    {
     "data": {
      "text/plain": [
       "['JavaScript',\n",
       " 'C',\n",
       " 'Perl',\n",
       " 'VB',\n",
       " 'VC',\n",
       " [100, 200, 300],\n",
       " 'Welcome',\n",
       " 'TCS',\n",
       " 'INFY',\n",
       " 'IBM']"
      ]
     },
     "execution_count": 59,
     "metadata": {},
     "output_type": "execute_result"
    }
   ],
   "source": [
    "languages\n",
    "\n",
    "#Extend- Will expand the things"
   ]
  },
  {
   "cell_type": "code",
   "execution_count": 60,
   "id": "bdf8300b",
   "metadata": {},
   "outputs": [],
   "source": [
    "s='Welcome'"
   ]
  },
  {
   "cell_type": "code",
   "execution_count": 61,
   "id": "353eb41a",
   "metadata": {},
   "outputs": [
    {
     "data": {
      "text/plain": [
       "'Welcome'"
      ]
     },
     "execution_count": 61,
     "metadata": {},
     "output_type": "execute_result"
    }
   ],
   "source": [
    "s"
   ]
  },
  {
   "cell_type": "code",
   "execution_count": 62,
   "id": "72941db9",
   "metadata": {},
   "outputs": [],
   "source": [
    "languages.extend(s)"
   ]
  },
  {
   "cell_type": "code",
   "execution_count": 63,
   "id": "081af3a7",
   "metadata": {},
   "outputs": [
    {
     "data": {
      "text/plain": [
       "['JavaScript',\n",
       " 'C',\n",
       " 'Perl',\n",
       " 'VB',\n",
       " 'VC',\n",
       " [100, 200, 300],\n",
       " 'Welcome',\n",
       " 'TCS',\n",
       " 'INFY',\n",
       " 'IBM',\n",
       " 'W',\n",
       " 'e',\n",
       " 'l',\n",
       " 'c',\n",
       " 'o',\n",
       " 'm',\n",
       " 'e']"
      ]
     },
     "execution_count": 63,
     "metadata": {},
     "output_type": "execute_result"
    }
   ],
   "source": [
    "languages\n",
    "\n",
    "#It will treat string'welcome' every element as a separate"
   ]
  },
  {
   "cell_type": "code",
   "execution_count": 64,
   "id": "021428e7",
   "metadata": {},
   "outputs": [
    {
     "data": {
      "text/plain": [
       "['JavaScript',\n",
       " 'C',\n",
       " 'Perl',\n",
       " 'VB',\n",
       " 'VC',\n",
       " [100, 200, 300],\n",
       " 'Welcome',\n",
       " 'TCS',\n",
       " 'INFY',\n",
       " 'IBM',\n",
       " 'W',\n",
       " 'e',\n",
       " 'l',\n",
       " 'c',\n",
       " 'o',\n",
       " 'm',\n",
       " 'e',\n",
       " 'Welcome']"
      ]
     },
     "execution_count": 64,
     "metadata": {},
     "output_type": "execute_result"
    }
   ],
   "source": [
    "languages.append(s)\n",
    "languages\n",
    "\n",
    "#Difference between Append and Extend.\n",
    "#Append consider 'S'as a single element"
   ]
  },
  {
   "cell_type": "markdown",
   "id": "945c3a81",
   "metadata": {},
   "source": [
    "#### Count"
   ]
  },
  {
   "cell_type": "code",
   "execution_count": 65,
   "id": "e4e7710b",
   "metadata": {},
   "outputs": [
    {
     "data": {
      "text/plain": [
       "['JavaScript',\n",
       " 'C',\n",
       " 'Perl',\n",
       " 'VB',\n",
       " 'VC',\n",
       " [100, 200, 300],\n",
       " 'Welcome',\n",
       " 'TCS',\n",
       " 'INFY',\n",
       " 'IBM',\n",
       " 'W',\n",
       " 'e',\n",
       " 'l',\n",
       " 'c',\n",
       " 'o',\n",
       " 'm',\n",
       " 'e',\n",
       " 'Welcome']"
      ]
     },
     "execution_count": 65,
     "metadata": {},
     "output_type": "execute_result"
    }
   ],
   "source": [
    "languages"
   ]
  },
  {
   "cell_type": "code",
   "execution_count": 66,
   "id": "fc2d163c",
   "metadata": {},
   "outputs": [
    {
     "data": {
      "text/plain": [
       "1"
      ]
     },
     "execution_count": 66,
     "metadata": {},
     "output_type": "execute_result"
    }
   ],
   "source": [
    "languages.count(\"VB\")"
   ]
  },
  {
   "cell_type": "code",
   "execution_count": 67,
   "id": "7d7137bb",
   "metadata": {},
   "outputs": [
    {
     "data": {
      "text/plain": [
       "1"
      ]
     },
     "execution_count": 67,
     "metadata": {},
     "output_type": "execute_result"
    }
   ],
   "source": [
    "languages.count(\"C\")"
   ]
  },
  {
   "cell_type": "code",
   "execution_count": 68,
   "id": "1139055c",
   "metadata": {},
   "outputs": [
    {
     "data": {
      "text/plain": [
       "0"
      ]
     },
     "execution_count": 68,
     "metadata": {},
     "output_type": "execute_result"
    }
   ],
   "source": [
    "languages.count(\"w\")\n",
    "\n",
    "#Python will show zero because it's case sensitive"
   ]
  },
  {
   "cell_type": "markdown",
   "id": "5b75a76c",
   "metadata": {},
   "source": [
    "#### Indexing"
   ]
  },
  {
   "cell_type": "code",
   "execution_count": 69,
   "id": "654432b2",
   "metadata": {},
   "outputs": [
    {
     "data": {
      "text/plain": [
       "['JavaScript',\n",
       " 'C',\n",
       " 'Perl',\n",
       " 'VB',\n",
       " 'VC',\n",
       " [100, 200, 300],\n",
       " 'Welcome',\n",
       " 'TCS',\n",
       " 'INFY',\n",
       " 'IBM',\n",
       " 'W',\n",
       " 'e',\n",
       " 'l',\n",
       " 'c',\n",
       " 'o',\n",
       " 'm',\n",
       " 'e',\n",
       " 'Welcome']"
      ]
     },
     "execution_count": 69,
     "metadata": {},
     "output_type": "execute_result"
    }
   ],
   "source": [
    "languages"
   ]
  },
  {
   "cell_type": "code",
   "execution_count": 71,
   "id": "95c3b31e",
   "metadata": {},
   "outputs": [
    {
     "data": {
      "text/plain": [
       "7"
      ]
     },
     "execution_count": 71,
     "metadata": {},
     "output_type": "execute_result"
    }
   ],
   "source": [
    "languages.index(\"TCS\")\n",
    "\n",
    "#Finding the TCS position"
   ]
  },
  {
   "cell_type": "code",
   "execution_count": 72,
   "id": "ade56c25",
   "metadata": {},
   "outputs": [
    {
     "data": {
      "text/plain": [
       "1"
      ]
     },
     "execution_count": 72,
     "metadata": {},
     "output_type": "execute_result"
    }
   ],
   "source": [
    "languages.index(\"C\")\n",
    "\n",
    "#It will match the first element that is matching the search we are doing. "
   ]
  },
  {
   "cell_type": "code",
   "execution_count": 79,
   "id": "0a3c94b6",
   "metadata": {},
   "outputs": [
    {
     "data": {
      "text/plain": [
       "13"
      ]
     },
     "execution_count": 79,
     "metadata": {},
     "output_type": "execute_result"
    }
   ],
   "source": [
    "languages.index(\"c\",3)\n",
    "\n",
    "#from 3rd element it's position is 13 "
   ]
  },
  {
   "cell_type": "code",
   "execution_count": 80,
   "id": "2a735dd5",
   "metadata": {},
   "outputs": [
    {
     "data": {
      "text/plain": [
       "5"
      ]
     },
     "execution_count": 80,
     "metadata": {},
     "output_type": "execute_result"
    }
   ],
   "source": [
    "languages.index([100,200,300])"
   ]
  },
  {
   "cell_type": "markdown",
   "id": "8bfc9973",
   "metadata": {},
   "source": [
    "#### Mutable vs Immutable"
   ]
  },
  {
   "cell_type": "code",
   "execution_count": 81,
   "id": "8b543f70",
   "metadata": {},
   "outputs": [],
   "source": [
    "s=\"Welcome\""
   ]
  },
  {
   "cell_type": "code",
   "execution_count": 82,
   "id": "99d0a349",
   "metadata": {},
   "outputs": [
    {
     "data": {
      "text/plain": [
       "'Welcome'"
      ]
     },
     "execution_count": 82,
     "metadata": {},
     "output_type": "execute_result"
    }
   ],
   "source": [
    "s"
   ]
  },
  {
   "cell_type": "code",
   "execution_count": 83,
   "id": "40484d59",
   "metadata": {},
   "outputs": [],
   "source": [
    "Languages=[\"Python\",\"Perl\",\"Ruby\"]"
   ]
  },
  {
   "cell_type": "code",
   "execution_count": 84,
   "id": "227796a5",
   "metadata": {},
   "outputs": [
    {
     "data": {
      "text/plain": [
       "['Python', 'Perl', 'Ruby']"
      ]
     },
     "execution_count": 84,
     "metadata": {},
     "output_type": "execute_result"
    }
   ],
   "source": [
    "Languages"
   ]
  },
  {
   "cell_type": "code",
   "execution_count": 85,
   "id": "3540edb9",
   "metadata": {},
   "outputs": [],
   "source": [
    "Languages[0]= \"Java\"\n",
    "\n",
    "#So here we are trying to Re-assign \"0\" element as Java which it will change it from Python > Java."
   ]
  },
  {
   "cell_type": "code",
   "execution_count": 86,
   "id": "dfb3ef89",
   "metadata": {},
   "outputs": [
    {
     "data": {
      "text/plain": [
       "['Java', 'Perl', 'Ruby']"
      ]
     },
     "execution_count": 86,
     "metadata": {},
     "output_type": "execute_result"
    }
   ],
   "source": [
    "Languages"
   ]
  },
  {
   "cell_type": "code",
   "execution_count": 87,
   "id": "d06e6003",
   "metadata": {},
   "outputs": [
    {
     "ename": "TypeError",
     "evalue": "'str' object does not support item assignment",
     "output_type": "error",
     "traceback": [
      "\u001b[1;31m---------------------------------------------------------------------------\u001b[0m",
      "\u001b[1;31mTypeError\u001b[0m                                 Traceback (most recent call last)",
      "Cell \u001b[1;32mIn [87], line 2\u001b[0m\n\u001b[0;32m      1\u001b[0m \u001b[38;5;66;03m#It will not work here\u001b[39;00m\n\u001b[1;32m----> 2\u001b[0m s[\u001b[38;5;241m0\u001b[39m]\u001b[38;5;241m=\u001b[39m\u001b[38;5;124m'\u001b[39m\u001b[38;5;124mZ\u001b[39m\u001b[38;5;124m'\u001b[39m\n",
      "\u001b[1;31mTypeError\u001b[0m: 'str' object does not support item assignment"
     ]
    }
   ],
   "source": [
    "#Because of string we can't Re-assign it's element like we did earlier.It will not work here\n",
    "s[0]='Z'"
   ]
  },
  {
   "cell_type": "code",
   "execution_count": 88,
   "id": "bfe0d99b",
   "metadata": {},
   "outputs": [],
   "source": [
    "#Mutable = Lists,Dictionaries,Set\n",
    "#Immutable= String,tuples,int,float, bool"
   ]
  },
  {
   "cell_type": "markdown",
   "id": "fe0ff6e2",
   "metadata": {},
   "source": [
    "#### Sort"
   ]
  },
  {
   "cell_type": "code",
   "execution_count": 89,
   "id": "908259cb",
   "metadata": {},
   "outputs": [
    {
     "data": {
      "text/plain": [
       "'Welcome'"
      ]
     },
     "execution_count": 89,
     "metadata": {},
     "output_type": "execute_result"
    }
   ],
   "source": [
    "s"
   ]
  },
  {
   "cell_type": "code",
   "execution_count": 94,
   "id": "9f674ffa",
   "metadata": {},
   "outputs": [],
   "source": [
    "Languages.append(\"C\")"
   ]
  },
  {
   "cell_type": "code",
   "execution_count": 95,
   "id": "7c1b92e4",
   "metadata": {},
   "outputs": [
    {
     "data": {
      "text/plain": [
       "['Java', 'Perl', 'Ruby', 'C']"
      ]
     },
     "execution_count": 95,
     "metadata": {},
     "output_type": "execute_result"
    }
   ],
   "source": [
    "Languages"
   ]
  },
  {
   "cell_type": "code",
   "execution_count": 96,
   "id": "02c30e72",
   "metadata": {},
   "outputs": [],
   "source": [
    "Languages.sort()"
   ]
  },
  {
   "cell_type": "code",
   "execution_count": 97,
   "id": "c514dd28",
   "metadata": {},
   "outputs": [
    {
     "data": {
      "text/plain": [
       "['C', 'Java', 'Perl', 'Ruby']"
      ]
     },
     "execution_count": 97,
     "metadata": {},
     "output_type": "execute_result"
    }
   ],
   "source": [
    "Languages\n",
    "\n",
    "#It's arranging all elements in a alphabetical order."
   ]
  },
  {
   "cell_type": "code",
   "execution_count": 103,
   "id": "c54b5626",
   "metadata": {},
   "outputs": [
    {
     "name": "stdout",
     "output_type": "stream",
     "text": [
      "Original: [200, 500, 300, 700, 900, 850]\n",
      "Sorted: [200, 300, 500, 700, 850, 900]\n"
     ]
    }
   ],
   "source": [
    "numbers=[200,500,300,700,900,850]\n",
    "print(\"Original:\",numbers)\n",
    "numbers.sort()\n",
    "print(\"Sorted:\",numbers)\n",
    "\n",
    "#It's sorting number also in a ascending order.\n",
    "#You can use reverse function in sort to arrange it in descending order."
   ]
  },
  {
   "cell_type": "markdown",
   "id": "cdb3fa94",
   "metadata": {},
   "source": [
    "#### Tuple\n",
    "- Ordered collection of items\n",
    "- syntax()\n",
    "- Immutable"
   ]
  },
  {
   "cell_type": "code",
   "execution_count": 128,
   "id": "e67b87c4",
   "metadata": {},
   "outputs": [],
   "source": [
    "vaccines=(\"Covaxin\",\"Covishield\",\"Sputnik\")"
   ]
  },
  {
   "cell_type": "code",
   "execution_count": 129,
   "id": "d7a3277f",
   "metadata": {},
   "outputs": [
    {
     "data": {
      "text/plain": [
       "tuple"
      ]
     },
     "execution_count": 129,
     "metadata": {},
     "output_type": "execute_result"
    }
   ],
   "source": [
    "type(vaccines)"
   ]
  },
  {
   "cell_type": "code",
   "execution_count": 130,
   "id": "a35de4a5",
   "metadata": {},
   "outputs": [
    {
     "data": {
      "text/plain": [
       "3"
      ]
     },
     "execution_count": 130,
     "metadata": {},
     "output_type": "execute_result"
    }
   ],
   "source": [
    "len(vaccines)\n",
    "\n",
    "#Lenght of the elements"
   ]
  },
  {
   "cell_type": "code",
   "execution_count": 132,
   "id": "4218ae83",
   "metadata": {},
   "outputs": [
    {
     "data": {
      "text/plain": [
       "'Covaxin'"
      ]
     },
     "execution_count": 132,
     "metadata": {},
     "output_type": "execute_result"
    }
   ],
   "source": [
    "vaccines[0]"
   ]
  },
  {
   "cell_type": "code",
   "execution_count": 133,
   "id": "f89e8359",
   "metadata": {},
   "outputs": [
    {
     "data": {
      "text/plain": [
       "('Covaxin', 'Covishield')"
      ]
     },
     "execution_count": 133,
     "metadata": {},
     "output_type": "execute_result"
    }
   ],
   "source": [
    "vaccines[:2]\n",
    "\n",
    "\n",
    "#Positive Indexing Working"
   ]
  },
  {
   "cell_type": "code",
   "execution_count": 134,
   "id": "4e4d4fd7",
   "metadata": {},
   "outputs": [
    {
     "data": {
      "text/plain": [
       "'Sputnik'"
      ]
     },
     "execution_count": 134,
     "metadata": {},
     "output_type": "execute_result"
    }
   ],
   "source": [
    "vaccines[-1]\n",
    "\n",
    "#Negative indexing working"
   ]
  },
  {
   "cell_type": "code",
   "execution_count": 135,
   "id": "006ab64b",
   "metadata": {},
   "outputs": [
    {
     "data": {
      "text/plain": [
       "1"
      ]
     },
     "execution_count": 135,
     "metadata": {},
     "output_type": "execute_result"
    }
   ],
   "source": [
    "vaccines.count(\"Covaxin\")"
   ]
  },
  {
   "cell_type": "code",
   "execution_count": 138,
   "id": "3cab1514",
   "metadata": {},
   "outputs": [
    {
     "ename": "TypeError",
     "evalue": "'tuple' object doesn't support item deletion",
     "output_type": "error",
     "traceback": [
      "\u001b[1;31m---------------------------------------------------------------------------\u001b[0m",
      "\u001b[1;31mTypeError\u001b[0m                                 Traceback (most recent call last)",
      "Cell \u001b[1;32mIn [138], line 1\u001b[0m\n\u001b[1;32m----> 1\u001b[0m \u001b[38;5;28;01mdel\u001b[39;00m vaccines[\u001b[38;5;241m0\u001b[39m]\n\u001b[0;32m      3\u001b[0m vaccines[\u001b[38;5;241m0\u001b[39m]\u001b[38;5;241m=\u001b[39m\u001b[38;5;124m\"\u001b[39m\u001b[38;5;124mPfizer\u001b[39m\u001b[38;5;124m\"\u001b[39m\n",
      "\u001b[1;31mTypeError\u001b[0m: 'tuple' object doesn't support item deletion"
     ]
    }
   ],
   "source": [
    "del vaccines[0]\n",
    "\n",
    "vaccines[0]=\"Pfizer\"\n",
    "\n",
    "#Tuple object can't be deleted or Re-assigned to existing element."
   ]
  },
  {
   "cell_type": "code",
   "execution_count": 137,
   "id": "9a26de06",
   "metadata": {},
   "outputs": [
    {
     "data": {
      "text/plain": [
       "('Covaxin', 'Covishield', 'Sputnik')"
      ]
     },
     "execution_count": 137,
     "metadata": {},
     "output_type": "execute_result"
    }
   ],
   "source": [
    "vaccines"
   ]
  },
  {
   "cell_type": "code",
   "execution_count": 139,
   "id": "2764712a",
   "metadata": {},
   "outputs": [],
   "source": [
    "#You can delete the complete vaccine"
   ]
  },
  {
   "cell_type": "markdown",
   "id": "d34243f9",
   "metadata": {},
   "source": [
    "#### Packing"
   ]
  },
  {
   "cell_type": "code",
   "execution_count": 146,
   "id": "e25cf433",
   "metadata": {},
   "outputs": [],
   "source": [
    "VK=\"Virat\",35,\"RCB\"\n",
    "\n",
    "#When you store a value in a single element then it will show you as a tuple"
   ]
  },
  {
   "cell_type": "code",
   "execution_count": 142,
   "id": "3b80f6e9",
   "metadata": {},
   "outputs": [
    {
     "data": {
      "text/plain": [
       "('Virat', 35, 'RCB')"
      ]
     },
     "execution_count": 142,
     "metadata": {},
     "output_type": "execute_result"
    }
   ],
   "source": [
    "VK\n",
    "\n",
    "#It will store the value in tuple"
   ]
  },
  {
   "cell_type": "code",
   "execution_count": 145,
   "id": "bba2cca4",
   "metadata": {},
   "outputs": [
    {
     "name": "stdout",
     "output_type": "stream",
     "text": [
      "<class 'tuple'>\n"
     ]
    }
   ],
   "source": [
    "print(type(VK))"
   ]
  },
  {
   "cell_type": "code",
   "execution_count": 158,
   "id": "b9d78fb4",
   "metadata": {},
   "outputs": [],
   "source": [
    "name, age, Franchisee= \"Rohit Sharma\", 36, \"MI\""
   ]
  },
  {
   "cell_type": "code",
   "execution_count": 159,
   "id": "67186b0b",
   "metadata": {},
   "outputs": [
    {
     "data": {
      "text/plain": [
       "'Rohit Sharma'"
      ]
     },
     "execution_count": 159,
     "metadata": {},
     "output_type": "execute_result"
    }
   ],
   "source": [
    "name"
   ]
  },
  {
   "cell_type": "code",
   "execution_count": 160,
   "id": "795a6662",
   "metadata": {},
   "outputs": [
    {
     "name": "stdout",
     "output_type": "stream",
     "text": [
      "<class 'str'>\n"
     ]
    }
   ],
   "source": [
    "print(type(name))\n",
    "\n",
    "#Here because of multiple variable it will display as string not tuple that's the difference."
   ]
  },
  {
   "cell_type": "code",
   "execution_count": 151,
   "id": "e035c6f1",
   "metadata": {},
   "outputs": [
    {
     "data": {
      "text/plain": [
       "1793686972288"
      ]
     },
     "execution_count": 151,
     "metadata": {},
     "output_type": "execute_result"
    }
   ],
   "source": [
    "id(VK)\n",
    "\n",
    "#Here it creates only one ID for storing multiple variables."
   ]
  },
  {
   "cell_type": "code",
   "execution_count": 161,
   "id": "3df3649b",
   "metadata": {},
   "outputs": [
    {
     "data": {
      "text/plain": [
       "1793694433776"
      ]
     },
     "execution_count": 161,
     "metadata": {},
     "output_type": "execute_result"
    }
   ],
   "source": [
    "id(name)\n"
   ]
  },
  {
   "cell_type": "code",
   "execution_count": 162,
   "id": "ad83125e",
   "metadata": {},
   "outputs": [
    {
     "data": {
      "text/plain": [
       "1793561488784"
      ]
     },
     "execution_count": 162,
     "metadata": {},
     "output_type": "execute_result"
    }
   ],
   "source": [
    "id(age)"
   ]
  },
  {
   "cell_type": "code",
   "execution_count": 163,
   "id": "9d5d9109",
   "metadata": {},
   "outputs": [
    {
     "data": {
      "text/plain": [
       "1793687440880"
      ]
     },
     "execution_count": 163,
     "metadata": {},
     "output_type": "execute_result"
    }
   ],
   "source": [
    "id(franchise)\n",
    "\n",
    "#Stored in a three different variable so we have three different storage location"
   ]
  },
  {
   "cell_type": "code",
   "execution_count": 164,
   "id": "a6c4fc2e",
   "metadata": {},
   "outputs": [
    {
     "ename": "ValueError",
     "evalue": "too many values to unpack (expected 3)",
     "output_type": "error",
     "traceback": [
      "\u001b[1;31m---------------------------------------------------------------------------\u001b[0m",
      "\u001b[1;31mValueError\u001b[0m                                Traceback (most recent call last)",
      "Cell \u001b[1;32mIn [164], line 1\u001b[0m\n\u001b[1;32m----> 1\u001b[0m name, age, team\u001b[38;5;241m=\u001b[39m \u001b[38;5;124m\"\u001b[39m\u001b[38;5;124mRohit Sharma\u001b[39m\u001b[38;5;124m\"\u001b[39m, \u001b[38;5;241m36\u001b[39m, \u001b[38;5;124m\"\u001b[39m\u001b[38;5;124mMI\u001b[39m\u001b[38;5;124m\"\u001b[39m,\u001b[38;5;124m\"\u001b[39m\u001b[38;5;124mIND\u001b[39m\u001b[38;5;124m\"\u001b[39m\n",
      "\u001b[1;31mValueError\u001b[0m: too many values to unpack (expected 3)"
     ]
    }
   ],
   "source": [
    "name, age, team= \"Rohit Sharma\", 36, \"MI\",\"IND\"\n",
    "\n",
    "#So here errors come as we have only 3 variables and we are entering 4values."
   ]
  },
  {
   "cell_type": "code",
   "execution_count": 167,
   "id": "3ba13d42",
   "metadata": {},
   "outputs": [],
   "source": [
    "name, age, *team= \"Rohit Sharma\", 36, \"MI\", \"IND\"\n",
    "\n",
    "#By adding * we dont get error like earlier it will store the remaining value in \"team\""
   ]
  },
  {
   "cell_type": "code",
   "execution_count": 166,
   "id": "57ddfa69",
   "metadata": {},
   "outputs": [
    {
     "data": {
      "text/plain": [
       "['MI', 'IND']"
      ]
     },
     "execution_count": 166,
     "metadata": {},
     "output_type": "execute_result"
    }
   ],
   "source": [
    "team"
   ]
  }
 ],
 "metadata": {
  "kernelspec": {
   "display_name": "Python 3 (ipykernel)",
   "language": "python",
   "name": "python3"
  },
  "language_info": {
   "codemirror_mode": {
    "name": "ipython",
    "version": 3
   },
   "file_extension": ".py",
   "mimetype": "text/x-python",
   "name": "python",
   "nbconvert_exporter": "python",
   "pygments_lexer": "ipython3",
   "version": "3.9.12"
  },
  "varInspector": {
   "cols": {
    "lenName": 16,
    "lenType": 16,
    "lenVar": 40
   },
   "kernels_config": {
    "python": {
     "delete_cmd_postfix": "",
     "delete_cmd_prefix": "del ",
     "library": "var_list.py",
     "varRefreshCmd": "print(var_dic_list())"
    },
    "r": {
     "delete_cmd_postfix": ") ",
     "delete_cmd_prefix": "rm(",
     "library": "var_list.r",
     "varRefreshCmd": "cat(var_dic_list()) "
    }
   },
   "types_to_exclude": [
    "module",
    "function",
    "builtin_function_or_method",
    "instance",
    "_Feature"
   ],
   "window_display": false
  }
 },
 "nbformat": 4,
 "nbformat_minor": 5
}
